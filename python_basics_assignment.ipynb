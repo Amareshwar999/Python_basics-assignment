{
  "nbformat": 4,
  "nbformat_minor": 0,
  "metadata": {
    "colab": {
      "provenance": []
    },
    "kernelspec": {
      "name": "python3",
      "display_name": "Python 3"
    },
    "language_info": {
      "name": "python"
    }
  },
  "cells": [
    {
      "cell_type": "markdown",
      "source": [
        "#Python Basics Assignmnet\n"
      ],
      "metadata": {
        "id": "LBRwlheUCjMz"
      }
    },
    {
      "cell_type": "markdown",
      "source": [
        "1. What is Python, and why is it popular ?\n",
        "  - Python is interpreted programming language. It is so popular because it is easy to write, read and understand. It has various labraries and it is open source. It has simple syntax and it is widely used in Data Science, Machine Learning, Web Development etc..\n",
        "\n",
        " ---\n",
        "\n",
        "\n",
        "\n",
        "2. What is an interpreter in Python ?\n",
        "  - An interpreter is a program that executes Python code line by line. Python's interpreter reads the code, translates it into bytecode, and then executes it, which makes it easy to test and debug code quickly.\n",
        "\n",
        "  ---\n",
        "\n",
        "\n",
        "3. What are pre-defined keywords in Python ?\n",
        "  - Pre-defined keywords in Python are reserved words that have special meaning and have a specific purpose. They cannot be used as variable names.\n",
        "\n",
        "      examples: if, else, def, class, for, true etc\n",
        "\n",
        " ---\n",
        "4. Can keywords be used as variable names ?\n",
        "  - No, Keywords can't be used as variable names because they are reserved for language syntax.\n",
        " ---\n",
        "5.  What is mutability in Python ?\n",
        " - the ability to change/modify the objects after its initialization.\n",
        "\n",
        "     example: list\n",
        " ---\n",
        "6. Why are lists mutable, but tuples are immutable ?\n",
        "  - Lists are mutable because they are designed to allow modifications after creation, while tuples are immutable, meaning their contents cannot be changed once created.Both of these have different purposes. Lists are often used for dynamic data structures where items need to be added, removed, or changed, while tuples are used for representing fixed sequences of data that should not be altered.\n",
        "  ---\n",
        "7. What is the difference between “==” and “is” operators in Python ?\n",
        " - \"==\"checks if two variables have equal values.\n",
        "\n",
        "     \"is\" checks if two variables refer to the same object in memory.\n",
        "\n",
        "     example:\n",
        "     \\\n",
        "     a = [1, 2]\n",
        "\\\n",
        "      b = [1, 2];\n",
        "\\\n",
        "      a == b        #True\n",
        "\\\n",
        "      a is b       #False\n",
        "\n",
        "  ---\n",
        "8. What are logical operators in Python ?\n",
        "  - Logical operators are used to combine conditional statements. There are three logical operators, they are :  \n",
        "      \"and\", \"or\", \"not\"\n",
        "  ---\n",
        "9. What is type casting in Python ?\n",
        "  - Type casting is converting a variable from one data type to another.\n",
        "  ---\n",
        "10. What is the difference between implicit and explicit type casting ?\n",
        "  - implicit type casting is an automatic conversion handled by the compiler.\n",
        "\n",
        "      example:  ( 5 + 2.0 → result is 7.0)\n",
        "\n",
        "  - explicit type casting is a manual conversion where the programmer specifies the desired data type.\n",
        " ---\n",
        "11. What is the purpose of conditional statements in Python ?\n",
        "  - Conditional statements allow the program to make decisions and execute different blocks of code based on conditions using if, elif, and else.\n",
        "  ---\n",
        "12. How does the elif statement work ?\n",
        "  - it is short form of \"else-if\". The elif statement in Python acts as a conditional extension to an if statement, allowing you to check multiple conditions sequentially. It is used when the initial if condition is false, but you want to check another condition before executing the code block associated with the else statement.\n",
        "  ---\n",
        "13. What is the difference between for and while loops ?\n",
        "  - \"for\" loops are used when the number of iterations is known.\n",
        "\n",
        "      \"while\" loops are used when the loop should continue until a condition is false.\n",
        "  ---\n",
        "14.  Describe a scenario where a while loop is more suitable than a for loop.\n",
        "  - for example: writing a program that keeps asking a user for a password until they enter the correct one. Since we don't know how many tries the user will need, a while loop is ideal.\n",
        "  - A while loop is more suitable than a for loop when we don't know in advance how many times the loop should run — we are waiting for some condition to be met dynamically.\n",
        "\n",
        "---"
      ],
      "metadata": {
        "id": "hJVOOgHBDUny"
      }
    },
    {
      "cell_type": "markdown",
      "source": [
        "# **Practical Questions**"
      ],
      "metadata": {
        "id": "fc4aHFVADSVE"
      }
    },
    {
      "cell_type": "code",
      "source": [
        "#Write a Python program to print \"Hello, World!\"\n",
        "print(\"Hello, World!\")\n"
      ],
      "metadata": {
        "colab": {
          "base_uri": "https://localhost:8080/"
        },
        "id": "uWeKRXX9aLe2",
        "outputId": "46bbf793-b7bb-4116-c12d-b843a7b932f4"
      },
      "execution_count": 1,
      "outputs": [
        {
          "output_type": "stream",
          "name": "stdout",
          "text": [
            "Hello, World!\n"
          ]
        }
      ]
    },
    {
      "cell_type": "code",
      "source": [
        "#Write a Python program that displays your name and age\n",
        "name = \"Amareshwar\"\n",
        "age = 22\n",
        "print(\"Name:\", name)\n",
        "print(\"Age:\", age)"
      ],
      "metadata": {
        "colab": {
          "base_uri": "https://localhost:8080/"
        },
        "id": "PZCL4LyWaxTn",
        "outputId": "e9398441-9fa5-404b-8773-4ccab56446bb"
      },
      "execution_count": 3,
      "outputs": [
        {
          "output_type": "stream",
          "name": "stdout",
          "text": [
            "Name: Amareshwar\n",
            "Age: 22\n"
          ]
        }
      ]
    },
    {
      "cell_type": "code",
      "source": [
        "# Write code to print all the pre-defined keywords in Python using the keyword library\n",
        "import keyword\n",
        "print(keyword.kwlist)"
      ],
      "metadata": {
        "colab": {
          "base_uri": "https://localhost:8080/"
        },
        "id": "WnAoNAssbTTR",
        "outputId": "ce409811-a60e-415d-d77c-1cb2df44ce01"
      },
      "execution_count": 4,
      "outputs": [
        {
          "output_type": "stream",
          "name": "stdout",
          "text": [
            "['False', 'None', 'True', 'and', 'as', 'assert', 'async', 'await', 'break', 'class', 'continue', 'def', 'del', 'elif', 'else', 'except', 'finally', 'for', 'from', 'global', 'if', 'import', 'in', 'is', 'lambda', 'nonlocal', 'not', 'or', 'pass', 'raise', 'return', 'try', 'while', 'with', 'yield']\n"
          ]
        }
      ]
    },
    {
      "cell_type": "code",
      "source": [
        "help('keywords')"
      ],
      "metadata": {
        "colab": {
          "base_uri": "https://localhost:8080/"
        },
        "id": "_hhKc19BbTPy",
        "outputId": "08a51e00-42da-4bce-aa12-1153e73995b5"
      },
      "execution_count": 5,
      "outputs": [
        {
          "output_type": "stream",
          "name": "stdout",
          "text": [
            "\n",
            "Here is a list of the Python keywords.  Enter any keyword to get more help.\n",
            "\n",
            "False               class               from                or\n",
            "None                continue            global              pass\n",
            "True                def                 if                  raise\n",
            "and                 del                 import              return\n",
            "as                  elif                in                  try\n",
            "assert              else                is                  while\n",
            "async               except              lambda              with\n",
            "await               finally             nonlocal            yield\n",
            "break               for                 not                 \n",
            "\n"
          ]
        }
      ]
    },
    {
      "cell_type": "code",
      "source": [
        "#Write a program that checks if a given word is a Python keyword\n",
        "import keyword\n",
        "\n",
        "word = input(\"Enter a word: \")\n",
        "\n",
        "if keyword.iskeyword(word):\n",
        "    print(f\"{word} is a Python keyword.\")\n",
        "else:\n",
        "    print(f\"{word} is not a Python keyword.\")\n",
        "\n"
      ],
      "metadata": {
        "colab": {
          "base_uri": "https://localhost:8080/"
        },
        "id": "t4RdoJWzbTNh",
        "outputId": "0341aa4a-24ad-4b6f-dea2-9a81a1df8774"
      },
      "execution_count": 10,
      "outputs": [
        {
          "output_type": "stream",
          "name": "stdout",
          "text": [
            "Enter a word: or\n",
            "or is a Python keyword.\n"
          ]
        }
      ]
    },
    {
      "cell_type": "code",
      "source": [
        "# Create a list and tuple in Python, and demonstrate how attempting to change an element works differently for each\n",
        "'''Creating a list and a tuple'''\n",
        "xlist = [1, 2, 3]\n",
        "xtuple = (1, 2, 3)\n",
        "\n",
        "# Modifying the list\n",
        "xlist[0] = 10\n",
        "print(\"Modified list:\", xlist)\n",
        "\n",
        "# Modifying the tuple\n",
        "xtuple[0] = 10\n",
        " # This will cause an error\n"
      ],
      "metadata": {
        "colab": {
          "base_uri": "https://localhost:8080/",
          "height": 211
        },
        "id": "NQuv8l5mbTKi",
        "outputId": "90d8f193-d017-4679-8770-66e48bf389d8"
      },
      "execution_count": 12,
      "outputs": [
        {
          "output_type": "stream",
          "name": "stdout",
          "text": [
            "Modified list: [10, 2, 3]\n"
          ]
        },
        {
          "output_type": "error",
          "ename": "TypeError",
          "evalue": "'tuple' object does not support item assignment",
          "traceback": [
            "\u001b[0;31m---------------------------------------------------------------------------\u001b[0m",
            "\u001b[0;31mTypeError\u001b[0m                                 Traceback (most recent call last)",
            "\u001b[0;32m<ipython-input-12-710e441ae38c>\u001b[0m in \u001b[0;36m<cell line: 0>\u001b[0;34m()\u001b[0m\n\u001b[1;32m      9\u001b[0m \u001b[0;34m\u001b[0m\u001b[0m\n\u001b[1;32m     10\u001b[0m \u001b[0;31m# Modifying the tuple\u001b[0m\u001b[0;34m\u001b[0m\u001b[0;34m\u001b[0m\u001b[0m\n\u001b[0;32m---> 11\u001b[0;31m \u001b[0mxtuple\u001b[0m\u001b[0;34m[\u001b[0m\u001b[0;36m0\u001b[0m\u001b[0;34m]\u001b[0m \u001b[0;34m=\u001b[0m \u001b[0;36m10\u001b[0m\u001b[0;34m\u001b[0m\u001b[0;34m\u001b[0m\u001b[0m\n\u001b[0m\u001b[1;32m     12\u001b[0m  \u001b[0;31m# This will cause an error\u001b[0m\u001b[0;34m\u001b[0m\u001b[0;34m\u001b[0m\u001b[0m\n",
            "\u001b[0;31mTypeError\u001b[0m: 'tuple' object does not support item assignment"
          ]
        }
      ]
    },
    {
      "cell_type": "code",
      "source": [
        "#Write a function to demonstrate the behavior of mutable and immutable arguments\n",
        "def modify_list(lst):\n",
        "    lst.append(100)\n",
        "    print(\"Inside function (list):\", lst)\n",
        "\n",
        "def modify_int(num):\n",
        "    num += 10\n",
        "    print(\"Inside function (int):\", num)\n",
        "\n",
        "# Mutable\n",
        "my_list = [1, 2, 3]\n",
        "modify_list(my_list)\n",
        "print(\"Outside function (list):\", my_list)\n",
        "\n",
        "# Immutable\n",
        "my_num = 5\n",
        "modify_int(my_num)\n",
        "print(\"Outside function (int):\", my_num)"
      ],
      "metadata": {
        "colab": {
          "base_uri": "https://localhost:8080/"
        },
        "id": "vw1EquB7bS8J",
        "outputId": "b9506bfa-e8ae-4a4a-b082-83978c4519c1"
      },
      "execution_count": 1,
      "outputs": [
        {
          "output_type": "stream",
          "name": "stdout",
          "text": [
            "Inside function (list): [1, 2, 3, 100]\n",
            "Outside function (list): [1, 2, 3, 100]\n",
            "Inside function (int): 15\n",
            "Outside function (int): 5\n"
          ]
        }
      ]
    },
    {
      "cell_type": "code",
      "source": [
        "# Write a program that performs basic arithmetic operations on two user-input numbers.\n",
        "\n",
        "a = float(input(\"Enter first number: \"))\n",
        "b = float(input(\"Enter second number: \"))\n",
        "\n",
        "print(\"Addition:\", a + b)\n",
        "print(\"Subtraction:\", a - b)\n",
        "print(\"Multiplication:\", a * b)\n",
        "print(\"Division:\", a / b if b != 0 else \"Undefined\")"
      ],
      "metadata": {
        "colab": {
          "base_uri": "https://localhost:8080/"
        },
        "id": "nqlilD4wHc3W",
        "outputId": "6232386a-dd09-48ed-d1db-4eec98849670"
      },
      "execution_count": 2,
      "outputs": [
        {
          "output_type": "stream",
          "name": "stdout",
          "text": [
            "Enter first number: 10\n",
            "Enter second number: 2\n",
            "Addition: 12.0\n",
            "Subtraction: 8.0\n",
            "Multiplication: 20.0\n",
            "Division: 5.0\n"
          ]
        }
      ]
    },
    {
      "cell_type": "code",
      "source": [
        "#Write a program to demonstrate the use of logical operators.\n",
        "x = 10\n",
        "y = 5\n",
        "\n",
        "print(\"x > 5 and y < 10:\", x > 5 and y < 10)\n",
        "print(\"x > 15 or y < 10:\", x > 15 or y < 10)\n",
        "print(\"not(x > y):\", not(x > y))"
      ],
      "metadata": {
        "colab": {
          "base_uri": "https://localhost:8080/"
        },
        "id": "MGA2IinqHb21",
        "outputId": "f9791acf-ba39-4365-d5f9-183b31291618"
      },
      "execution_count": 3,
      "outputs": [
        {
          "output_type": "stream",
          "name": "stdout",
          "text": [
            "x > 5 and y < 10: True\n",
            "x > 15 or y < 10: True\n",
            "not(x > y): False\n"
          ]
        }
      ]
    },
    {
      "cell_type": "code",
      "source": [
        "#Write a Python program to convert user input from string to integer, float, and boolean types\n",
        "string_input = input(\"Enter a string: \")\n",
        "int_output = int(string_input)\n",
        "float_output = float(string_input)\n",
        "bool_output = bool(string_input)\n",
        "\"\"\" we can't convert string to input, float or boolen but we can convert int to string, float. \"\"\""
      ],
      "metadata": {
        "colab": {
          "base_uri": "https://localhost:8080/",
          "height": 228
        },
        "id": "g_KiYkaEHbsn",
        "outputId": "255bd79d-807c-4e33-deb4-62db0c172a4b"
      },
      "execution_count": 4,
      "outputs": [
        {
          "name": "stdout",
          "output_type": "stream",
          "text": [
            "Enter a string: hi\n"
          ]
        },
        {
          "output_type": "error",
          "ename": "ValueError",
          "evalue": "invalid literal for int() with base 10: 'hi'",
          "traceback": [
            "\u001b[0;31m---------------------------------------------------------------------------\u001b[0m",
            "\u001b[0;31mValueError\u001b[0m                                Traceback (most recent call last)",
            "\u001b[0;32m<ipython-input-4-96a3231a6182>\u001b[0m in \u001b[0;36m<cell line: 0>\u001b[0;34m()\u001b[0m\n\u001b[1;32m      1\u001b[0m \u001b[0;31m#Write a Python program to convert user input from string to integer, float, and boolean types\u001b[0m\u001b[0;34m\u001b[0m\u001b[0;34m\u001b[0m\u001b[0m\n\u001b[1;32m      2\u001b[0m \u001b[0mstring_input\u001b[0m \u001b[0;34m=\u001b[0m \u001b[0minput\u001b[0m\u001b[0;34m(\u001b[0m\u001b[0;34m\"Enter a string: \"\u001b[0m\u001b[0;34m)\u001b[0m\u001b[0;34m\u001b[0m\u001b[0;34m\u001b[0m\u001b[0m\n\u001b[0;32m----> 3\u001b[0;31m \u001b[0mint_output\u001b[0m \u001b[0;34m=\u001b[0m \u001b[0mint\u001b[0m\u001b[0;34m(\u001b[0m\u001b[0mstring_input\u001b[0m\u001b[0;34m)\u001b[0m\u001b[0;34m\u001b[0m\u001b[0;34m\u001b[0m\u001b[0m\n\u001b[0m\u001b[1;32m      4\u001b[0m \u001b[0mfloat_output\u001b[0m \u001b[0;34m=\u001b[0m \u001b[0mfloat\u001b[0m\u001b[0;34m(\u001b[0m\u001b[0mstring_input\u001b[0m\u001b[0;34m)\u001b[0m\u001b[0;34m\u001b[0m\u001b[0;34m\u001b[0m\u001b[0m\n\u001b[1;32m      5\u001b[0m \u001b[0mbool_output\u001b[0m \u001b[0;34m=\u001b[0m \u001b[0mbool\u001b[0m\u001b[0;34m(\u001b[0m\u001b[0mstring_input\u001b[0m\u001b[0;34m)\u001b[0m\u001b[0;34m\u001b[0m\u001b[0;34m\u001b[0m\u001b[0m\n",
            "\u001b[0;31mValueError\u001b[0m: invalid literal for int() with base 10: 'hi'"
          ]
        }
      ]
    },
    {
      "cell_type": "markdown",
      "source": [
        "###we can't convert string to input, float or boolen but we can  convert int to string, float."
      ],
      "metadata": {
        "id": "yttrXHpjJhyV"
      }
    },
    {
      "cell_type": "code",
      "source": [
        "# Write code to demonstrate type casting with list elements.\n",
        "str_list = [\"1\", \"2\", \"3\"]\n",
        "int_list = [int(item) for item in str_list]\n",
        "print(\"string elements in list:\", str_list)\n",
        "print(\"Converted list:\", int_list)"
      ],
      "metadata": {
        "colab": {
          "base_uri": "https://localhost:8080/"
        },
        "id": "sCF4hAAQHZzE",
        "outputId": "608f8189-0855-4dd0-eca9-d643c3bc2fe3"
      },
      "execution_count": 6,
      "outputs": [
        {
          "output_type": "stream",
          "name": "stdout",
          "text": [
            "string elements in list: ['1', '2', '3']\n",
            "Converted list: [1, 2, 3]\n"
          ]
        }
      ]
    },
    {
      "cell_type": "code",
      "source": [
        "# Write a program that checks if a number is positive, negative, or zero.\n",
        "num = float(input(\"Enter a number: \"))\n",
        "\n",
        "if num > 0:\n",
        "    print(\"The number is positive.\")\n",
        "elif num < 0:\n",
        "    print(\"The number is negative.\")\n",
        "else:\n",
        "    print(\"The number is zero.\")"
      ],
      "metadata": {
        "colab": {
          "base_uri": "https://localhost:8080/"
        },
        "id": "5OY9sqYKHZoR",
        "outputId": "92243b1e-4f4e-41dd-904b-a175bd5fd20b"
      },
      "execution_count": 12,
      "outputs": [
        {
          "output_type": "stream",
          "name": "stdout",
          "text": [
            "Enter a number: 0.001\n",
            "The number is positive.\n"
          ]
        }
      ]
    },
    {
      "cell_type": "code",
      "source": [
        "# Write a for loop to print numbers from 1 to 10.\n",
        "for i in range(1, 11):\n",
        "    print(i)"
      ],
      "metadata": {
        "colab": {
          "base_uri": "https://localhost:8080/"
        },
        "id": "tIXpcFRhHZcr",
        "outputId": "618721f8-e9e7-499c-c3c0-de17b5456979"
      },
      "execution_count": 13,
      "outputs": [
        {
          "output_type": "stream",
          "name": "stdout",
          "text": [
            "1\n",
            "2\n",
            "3\n",
            "4\n",
            "5\n",
            "6\n",
            "7\n",
            "8\n",
            "9\n",
            "10\n"
          ]
        }
      ]
    },
    {
      "cell_type": "code",
      "source": [
        "# Write a Python program to find the sum of all even numbers between 1 and 50.\n",
        "sum_even = 0\n",
        "for num in range(2, 51, 2):\n",
        "    sum_even += num\n",
        "print(\"Sum of even numbers between 1 and 50:\", sum_even)"
      ],
      "metadata": {
        "colab": {
          "base_uri": "https://localhost:8080/"
        },
        "id": "0-6WdIJWLOC3",
        "outputId": "8819ae1a-8757-4eb4-e5b2-d1c409616d07"
      },
      "execution_count": 14,
      "outputs": [
        {
          "output_type": "stream",
          "name": "stdout",
          "text": [
            "Sum of even numbers between 1 and 50: 650\n"
          ]
        }
      ]
    },
    {
      "cell_type": "code",
      "source": [
        "# Write a program to reverse a string using a while loop\n",
        "\n",
        "text = input(\"Enter a string: \")\n",
        "\n",
        "reversed_text = \"\"\n",
        "\n",
        "i = len(text) - 1\n",
        "\n",
        "while i >= 0:\n",
        "    reversed_text += text[i]\n",
        "    i -= 1\n",
        "\n",
        "print(\"Reversed string:\", reversed_text)\n"
      ],
      "metadata": {
        "colab": {
          "base_uri": "https://localhost:8080/"
        },
        "id": "Vlp9Ks5fLN_e",
        "outputId": "7e648e72-104e-492a-883d-f7b55a60a294"
      },
      "execution_count": 16,
      "outputs": [
        {
          "output_type": "stream",
          "name": "stdout",
          "text": [
            "Enter a string: amar\n",
            "Reversed string: rama\n"
          ]
        }
      ]
    },
    {
      "cell_type": "code",
      "source": [
        "# Write a Python program to calculate the factorial of a number provided by the user using a while loop\n",
        "num = int(input(\"Enter a number: \"))\n",
        "\n",
        "factorial = 1\n",
        "i = 1\n",
        "\n",
        "while i <= num:\n",
        "    factorial *= i\n",
        "    i += 1\n",
        "\n",
        "print(\"Factorial of\", num, \"is\", factorial)\n"
      ],
      "metadata": {
        "colab": {
          "base_uri": "https://localhost:8080/"
        },
        "id": "d4IGB3MiNWdt",
        "outputId": "94d57390-73fc-4cd4-f9b0-19fd93216af7"
      },
      "execution_count": 17,
      "outputs": [
        {
          "output_type": "stream",
          "name": "stdout",
          "text": [
            "Enter a number: 5\n",
            "Factorial of 5 is 120\n"
          ]
        }
      ]
    }
  ]
}